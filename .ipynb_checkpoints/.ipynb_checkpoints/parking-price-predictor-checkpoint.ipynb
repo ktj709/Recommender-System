{
 "cells": [
  {
   "cell_type": "code",
   "execution_count": 1,
   "id": "4e50af5b-5293-4d99-b318-a5aacee7745e",
   "metadata": {},
   "outputs": [],
   "source": [
    "import pandas as pd\n",
    "import numpy as np"
   ]
  },
  {
   "cell_type": "code",
   "execution_count": 5,
   "id": "362fed02-ecd1-4b6a-94d1-3fcc7eec5df9",
   "metadata": {},
   "outputs": [],
   "source": [
    "parking = pd.read_csv('Annual_Parking_Study_Data.csv', low_memory=False)\n"
   ]
  },
  {
   "cell_type": "code",
   "execution_count": 8,
   "id": "de00c679-0946-470c-a6b4-f23d3db0e502",
   "metadata": {},
   "outputs": [],
   "source": [
    "parking.fillna(0,inplace=True)"
   ]
  },
  {
   "cell_type": "code",
   "execution_count": 10,
   "id": "d754a956-8934-4d12-a838-9c1e3fbbd2bc",
   "metadata": {},
   "outputs": [
    {
     "data": {
      "text/html": [
       "<div>\n",
       "<style scoped>\n",
       "    .dataframe tbody tr th:only-of-type {\n",
       "        vertical-align: middle;\n",
       "    }\n",
       "\n",
       "    .dataframe tbody tr th {\n",
       "        vertical-align: top;\n",
       "    }\n",
       "\n",
       "    .dataframe thead th {\n",
       "        text-align: right;\n",
       "    }\n",
       "</style>\n",
       "<table border=\"1\" class=\"dataframe\">\n",
       "  <thead>\n",
       "    <tr style=\"text-align: right;\">\n",
       "      <th></th>\n",
       "      <th>Elmntkey</th>\n",
       "      <th>Study_Area</th>\n",
       "      <th>Sub_Area</th>\n",
       "      <th>Date Time</th>\n",
       "      <th>Side</th>\n",
       "      <th>Unitdesc</th>\n",
       "      <th>Peak Hour_SDOT</th>\n",
       "      <th>Parking_Spaces</th>\n",
       "      <th>Total_Vehicle_Count</th>\n",
       "      <th>Dp_Count</th>\n",
       "      <th>...</th>\n",
       "      <th>Idling</th>\n",
       "      <th>Field Notes</th>\n",
       "      <th>Construction</th>\n",
       "      <th>Event Closure</th>\n",
       "      <th>Subarea Label</th>\n",
       "      <th>Study Year</th>\n",
       "      <th>Peak Hour? (Yes or No)</th>\n",
       "      <th>RPZ Blocks</th>\n",
       "      <th>CSM</th>\n",
       "      <th>Time Stamp</th>\n",
       "    </tr>\n",
       "  </thead>\n",
       "  <tbody>\n",
       "    <tr>\n",
       "      <th>0</th>\n",
       "      <td>77982.0</td>\n",
       "      <td>South Lake Union</td>\n",
       "      <td>North</td>\n",
       "      <td>9/27/2017 20:00</td>\n",
       "      <td>E</td>\n",
       "      <td>DEXTER AVE N BETWEEN VALLEY ST AND ALOHA ST</td>\n",
       "      <td>0</td>\n",
       "      <td>2.0</td>\n",
       "      <td>3.0</td>\n",
       "      <td>0.0</td>\n",
       "      <td>...</td>\n",
       "      <td>0.0</td>\n",
       "      <td>0</td>\n",
       "      <td>No</td>\n",
       "      <td>No</td>\n",
       "      <td>South Lake Union (North Subarea)</td>\n",
       "      <td>2017.0</td>\n",
       "      <td>No</td>\n",
       "      <td>0.0</td>\n",
       "      <td>Y</td>\n",
       "      <td>09/27/2017 08:38:00 PM</td>\n",
       "    </tr>\n",
       "    <tr>\n",
       "      <th>1</th>\n",
       "      <td>35881.0</td>\n",
       "      <td>South Lake Union</td>\n",
       "      <td>North</td>\n",
       "      <td>9/27/2017 20:00</td>\n",
       "      <td>N</td>\n",
       "      <td>VALLEY ST BETWEEN DEXTER AVE N AND 8TH AVE N</td>\n",
       "      <td>0</td>\n",
       "      <td>15.0</td>\n",
       "      <td>12.0</td>\n",
       "      <td>1.0</td>\n",
       "      <td>...</td>\n",
       "      <td>0.0</td>\n",
       "      <td>0</td>\n",
       "      <td>No</td>\n",
       "      <td>No</td>\n",
       "      <td>South Lake Union (North Subarea)</td>\n",
       "      <td>2017.0</td>\n",
       "      <td>No</td>\n",
       "      <td>0.0</td>\n",
       "      <td>Y</td>\n",
       "      <td>09/27/2017 08:36:00 PM</td>\n",
       "    </tr>\n",
       "  </tbody>\n",
       "</table>\n",
       "<p>2 rows × 24 columns</p>\n",
       "</div>"
      ],
      "text/plain": [
       "   Elmntkey        Study_Area Sub_Area        Date Time Side  \\\n",
       "0   77982.0  South Lake Union    North  9/27/2017 20:00    E   \n",
       "1   35881.0  South Lake Union    North  9/27/2017 20:00    N   \n",
       "\n",
       "                                       Unitdesc Peak Hour_SDOT  \\\n",
       "0   DEXTER AVE N BETWEEN VALLEY ST AND ALOHA ST              0   \n",
       "1  VALLEY ST BETWEEN DEXTER AVE N AND 8TH AVE N              0   \n",
       "\n",
       "   Parking_Spaces  Total_Vehicle_Count  Dp_Count  ...  Idling  Field Notes  \\\n",
       "0             2.0                  3.0       0.0  ...     0.0            0   \n",
       "1            15.0                 12.0       1.0  ...     0.0            0   \n",
       "\n",
       "   Construction  Event Closure                     Subarea Label Study Year  \\\n",
       "0            No             No  South Lake Union (North Subarea)     2017.0   \n",
       "1            No             No  South Lake Union (North Subarea)     2017.0   \n",
       "\n",
       "  Peak Hour? (Yes or No) RPZ Blocks CSM              Time Stamp  \n",
       "0                     No        0.0   Y  09/27/2017 08:38:00 PM  \n",
       "1                     No        0.0   Y  09/27/2017 08:36:00 PM  \n",
       "\n",
       "[2 rows x 24 columns]"
      ]
     },
     "execution_count": 10,
     "metadata": {},
     "output_type": "execute_result"
    }
   ],
   "source": [
    " parking.head(2)"
   ]
  },
  {
   "cell_type": "code",
   "execution_count": null,
   "id": "d91cfccf-e8c4-4916-a0c5-051806536734",
   "metadata": {},
   "outputs": [],
   "source": [
    "\n",
    "parking = parking.rename(columns={\n",
    "    'Study_Area': 'location',\n",
    "    'Parking_Spaces': 'total_slots',\n",
    "    'Dp_Count': 'available_slots',\n",
    "    'Total_Vehicle_Count': 'demand_level',\n",
    "    'Unitdesc': 'duration_of_parking',\n",
    "    'Rpz_Count': 'base_price'\n",
    "})\n"
   ]
  },
  {
   "cell_type": "code",
   "execution_count": null,
   "id": "d620fcdc-6743-496a-8492-43b3d1e27666",
   "metadata": {},
   "outputs": [],
   "source": []
  }
 ],
 "metadata": {
  "kernelspec": {
   "display_name": "Python 3 (ipykernel)",
   "language": "python",
   "name": "python3"
  },
  "language_info": {
   "codemirror_mode": {
    "name": "ipython",
    "version": 3
   },
   "file_extension": ".py",
   "mimetype": "text/x-python",
   "name": "python",
   "nbconvert_exporter": "python",
   "pygments_lexer": "ipython3",
   "version": "3.13.2"
  }
 },
 "nbformat": 4,
 "nbformat_minor": 5
}
