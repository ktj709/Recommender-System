{
 "cells": [
  {
   "cell_type": "markdown",
   "id": "bb8b1b76-3d2e-427b-a857-2f552c2a8d1c",
   "metadata": {},
   "source": [
    "##### Content based filtering - In this algo, we try finding item look alike. Once we have item look alike matrix, we can easily recommend alike items to a customer who has purchased any item from the source."
   ]
  },
  {
   "cell_type": "markdown",
   "id": "367c0f69-d4ce-44dd-acbd-b1c09a1f0e56",
   "metadata": {},
   "source": [
    "#####  Collaborative filtering - Here, we try to search for lookalike has customers and offer products based on what his/her lookalike has chosen. This algorithm is very effective but takes a lot of time and resources."
   ]
  },
  {
   "cell_type": "markdown",
   "id": "2ee529d0-cd91-4a9e-9db0-4b1d15335e5f",
   "metadata": {},
   "source": [
    "##### Hyrbid filtering - Using both content based and collaborative filtering. e.g. - FACEBOOK"
   ]
  },
  {
   "cell_type": "code",
   "execution_count": null,
   "id": "4e07e8c7-8791-4255-96ca-a167840aa477",
   "metadata": {},
   "outputs": [],
   "source": []
  }
 ],
 "metadata": {
  "kernelspec": {
   "display_name": "Python 3 (ipykernel)",
   "language": "python",
   "name": "python3"
  },
  "language_info": {
   "codemirror_mode": {
    "name": "ipython",
    "version": 3
   },
   "file_extension": ".py",
   "mimetype": "text/x-python",
   "name": "python",
   "nbconvert_exporter": "python",
   "pygments_lexer": "ipython3",
   "version": "3.13.2"
  }
 },
 "nbformat": 4,
 "nbformat_minor": 5
}
